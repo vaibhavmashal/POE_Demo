{
  "cells": [
    {
      "cell_type": "markdown",
      "id": "d32a885d",
      "metadata": {
        "id": "d32a885d"
      },
      "source": [
        "# UVA Problems"
      ]
    },
    {
      "cell_type": "markdown",
      "id": "7b4c2bce",
      "metadata": {
        "id": "7b4c2bce"
      },
      "source": [
        "## UVA100 – The 3n + 1 Problem"
      ]
    },
    {
      "cell_type": "code",
      "execution_count": null,
      "id": "9cadc696",
      "metadata": {
        "id": "9cadc696"
      },
      "outputs": [],
      "source": [
        "def cycle_length(n):\n",
        "    c = 1\n",
        "    while n != 1:\n",
        "        n = n // 2 if n % 2 == 0 else 3 * n + 1\n",
        "        c += 1\n",
        "    return c\n",
        "\n",
        "while True:\n",
        "    try:\n",
        "        i, j = map(int, input().split())\n",
        "        print(i, j, max(cycle_length(k) for k in range(min(i, j), max(i, j) + 1)))\n",
        "    except EOFError:\n",
        "        break"
      ]
    },
    {
      "cell_type": "markdown",
      "id": "347fe9a3",
      "metadata": {
        "id": "347fe9a3"
      },
      "source": [
        "## UVA10038 – Jolly Jumper"
      ]
    },
    {
      "cell_type": "code",
      "execution_count": null,
      "id": "3bb4e081",
      "metadata": {
        "id": "3bb4e081"
      },
      "outputs": [],
      "source": [
        "while True:\n",
        "    try:\n",
        "        arr = list(map(int, input().split()))[1:]\n",
        "        print(\"Jolly\" if sorted(abs(arr[i] - arr[i-1]) for i in range(1, len(arr))) == list(range(1, len(arr))) else \"Not jolly\")\n",
        "    except EOFError:\n",
        "        break"
      ]
    },
    {
      "cell_type": "markdown",
      "id": "b0103dca",
      "metadata": {
        "id": "b0103dca"
      },
      "source": [
        "## UVA10082 – WERTYU"
      ]
    },
    {
      "cell_type": "code",
      "execution_count": null,
      "id": "c40496b1",
      "metadata": {
        "id": "c40496b1"
      },
      "outputs": [],
      "source": [
        "mapping = \"`1234567890-=QWERTYUIOP[]\\\\ASDFGHJKL;'ZXCVBNM,./\"\n",
        "while True:\n",
        "    try:\n",
        "        line = input()\n",
        "        print(''.join(mapping[mapping.index(c)-1] if c in mapping else c for c in line))\n",
        "    except EOFError:\n",
        "        break"
      ]
    },
    {
      "cell_type": "markdown",
      "id": "af361c89",
      "metadata": {
        "id": "af361c89"
      },
      "source": [
        "## UVA10252 – Common Permutation"
      ]
    },
    {
      "cell_type": "code",
      "execution_count": null,
      "id": "dc3ed878",
      "metadata": {
        "id": "dc3ed878"
      },
      "outputs": [],
      "source": [
        "from collections import Counter\n",
        "try:\n",
        "    while True:\n",
        "        a = input()\n",
        "        b = input()\n",
        "        ca, cb = Counter(a), Counter(b)\n",
        "        common = ''.join(sorted(c * min(ca[c], cb[c]) for c in ca if c in cb))\n",
        "        print(common)\n",
        "except EOFError:\n",
        "    pass"
      ]
    },
    {
      "cell_type": "markdown",
      "id": "294f8733",
      "metadata": {
        "id": "294f8733"
      },
      "source": [
        "## UVA10041 – Vito's Family"
      ]
    },
    {
      "cell_type": "code",
      "execution_count": null,
      "id": "4d6a3dfa",
      "metadata": {
        "id": "4d6a3dfa"
      },
      "outputs": [],
      "source": [
        "for _ in range(int(input())):\n",
        "    a = sorted(map(int, input().split()[1:]))\n",
        "    m = a[len(a)//2]\n",
        "    print(sum(abs(x - m) for x in a))"
      ]
    },
    {
      "cell_type": "markdown",
      "id": "9aa3fc9f",
      "metadata": {
        "id": "9aa3fc9f"
      },
      "source": [
        "## UVA10035 – Primary Arithmetic"
      ]
    },
    {
      "cell_type": "code",
      "execution_count": null,
      "id": "178ea551",
      "metadata": {
        "id": "178ea551"
      },
      "outputs": [],
      "source": [
        "while True:\n",
        "    x, y = map(int, input().split())\n",
        "    if x == y == 0: break\n",
        "    c = carry = 0\n",
        "    while x or y:\n",
        "        carry = (x % 10 + y % 10 + carry) // 10\n",
        "        if carry: c += 1\n",
        "        x //= 10; y //= 10\n",
        "    print(\"No carry operation.\" if c == 0 else f\"{c} carry operation{'s' if c > 1 else ''}.\")"
      ]
    },
    {
      "cell_type": "markdown",
      "id": "24aa87d1",
      "metadata": {
        "id": "24aa87d1"
      },
      "source": [
        "## UVA10018 – Reverse and Add"
      ]
    },
    {
      "cell_type": "code",
      "execution_count": null,
      "id": "f33ab414",
      "metadata": {
        "id": "f33ab414"
      },
      "outputs": [],
      "source": [
        "def rev(n): return int(str(n)[::-1])\n",
        "for _ in range(int(input())):\n",
        "    n, cnt = int(input()), 0\n",
        "    while True:\n",
        "        r = rev(n)\n",
        "        if n == r: break\n",
        "        n += r; cnt += 1\n",
        "    print(cnt, n)"
      ]
    },
    {
      "cell_type": "markdown",
      "id": "7c4353de",
      "metadata": {
        "id": "7c4353de"
      },
      "source": [
        "## UVA10127 – Ones"
      ]
    },
    {
      "cell_type": "code",
      "execution_count": null,
      "id": "79f7580f",
      "metadata": {
        "id": "79f7580f"
      },
      "outputs": [],
      "source": [
        "while True:\n",
        "    try:\n",
        "        n = int(input())\n",
        "        rem, l = 1, 1\n",
        "        while rem % n != 0:\n",
        "            rem = rem * 10 + 1\n",
        "            rem %= n\n",
        "            l += 1\n",
        "        print(l)\n",
        "    except EOFError:\n",
        "        break"
      ]
    },
    {
      "cell_type": "markdown",
      "id": "2bed1c84",
      "metadata": {
        "id": "2bed1c84"
      },
      "source": [
        "## UVA10105 – Polynomial Coefficients"
      ]
    },
    {
      "cell_type": "code",
      "execution_count": null,
      "id": "897f2dbd",
      "metadata": {
        "id": "897f2dbd"
      },
      "outputs": [],
      "source": [
        "import math\n",
        "try:\n",
        "    while True:\n",
        "        n, *nums = map(int, input().split())\n",
        "        while len(nums) < n:\n",
        "            nums += list(map(int, input().split()))\n",
        "        f = math.factorial(sum(nums))\n",
        "        for x in nums:\n",
        "            f //= math.factorial(x)\n",
        "        print(f)\n",
        "except EOFError:\n",
        "    pass"
      ]
    },
    {
      "cell_type": "markdown",
      "id": "1724b59d",
      "metadata": {
        "id": "1724b59d"
      },
      "source": [
        "## UVA847 – Multiplication Game"
      ]
    },
    {
      "cell_type": "code",
      "execution_count": null,
      "id": "3a538a10",
      "metadata": {
        "id": "3a538a10"
      },
      "outputs": [],
      "source": [
        "while True:\n",
        "    try:\n",
        "        n = int(input())\n",
        "        p, turn = 1, 1\n",
        "        while p < n:\n",
        "            p *= 9 if turn % 2 else 2\n",
        "            turn += 1\n",
        "        print(\"Stan wins.\" if turn % 2 == 0 else \"Ollie wins.\")\n",
        "    except EOFError:\n",
        "        break"
      ]
    },
    {
      "cell_type": "markdown",
      "id": "9859f172",
      "metadata": {
        "id": "9859f172"
      },
      "source": [
        "## UVA10050 – Hartals"
      ]
    },
    {
      "cell_type": "code",
      "execution_count": null,
      "id": "1fa1f86b",
      "metadata": {
        "id": "1fa1f86b"
      },
      "outputs": [],
      "source": [
        "for _ in range(int(input())):\n",
        "    d, p = int(input()), int(input())\n",
        "    h = [int(input()) for _ in range(p)]\n",
        "    days = set()\n",
        "    for x in h:\n",
        "        days.update(i for i in range(x, d+1, x) if i % 7 not in [6, 0])\n",
        "    print(len(days))"
      ]
    }
  ],
  "metadata": {
    "colab": {
      "provenance": []
    }
  },
  "nbformat": 4,
  "nbformat_minor": 5
}